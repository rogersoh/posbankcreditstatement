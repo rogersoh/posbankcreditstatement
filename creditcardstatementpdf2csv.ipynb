{
 "cells": [
  {
   "cell_type": "code",
   "execution_count": 1,
   "id": "0064aba5-2c35-453e-a2c2-3bcd0a31a925",
   "metadata": {},
   "outputs": [],
   "source": [
    "import os\n",
    "import re\n",
    "import parse\n",
    "import pdfplumber\n",
    "import pandas as pd\n",
    "from collections import namedtuple"
   ]
  },
  {
   "cell_type": "code",
   "execution_count": 2,
   "id": "98abba4b-9697-40c1-86d3-e92219011572",
   "metadata": {},
   "outputs": [],
   "source": [
    "DATA_DIR = \"data\"\n",
    "SOURCES_DIR = os.path.join(DATA_DIR, \"sources\")\n",
    "CSV_DIR = os.path.join(DATA_DIR, \"csv\")\n",
    "\n",
    "if not os.path.exists(DATA_DIR):\n",
    "  os.makedirs(DATA_DIR)\n",
    "    \n",
    "if not os.path.exists(SOURCES_DIR):\n",
    "  os.makedirs(SOURCES_DIR)\n",
    "\n",
    "if not os.path.exists(CSV_DIR):\n",
    "  os.makedirs(CSV_DIR)\n",
    "\n",
    "sources = os.listdir(SOURCES_DIR)\n",
    "sources = [os.path.join(SOURCES_DIR, f) for f in sources if f.endswith(\".pdf\")]\n",
    "\n",
    "# file = 'creditapr.pdf'"
   ]
  },
  {
   "cell_type": "code",
   "execution_count": 7,
   "id": "ee76d08e-12d8-4344-8c73-d2cb5883a3e2",
   "metadata": {},
   "outputs": [],
   "source": [
    "# Line = namedtuple('Line',['Date', 'Description', 'Amount']) both method works\n",
    "Line = namedtuple('Line', 'date Description amount')"
   ]
  },
  {
   "cell_type": "code",
   "execution_count": 8,
   "id": "d1790c5f-afc3-44b2-9c0d-32f261fb8154",
   "metadata": {},
   "outputs": [],
   "source": [
    "statement_re = re.compile(r\"(^[0-9]+\\s{1}[A-Z]{3})\\s(.*)\")\n",
    "credit_re = re.compile(r\"([0-9,]+\\.\\d+\\sCR)\")\n",
    "amount_re = re.compile(r\"([0-9,]+\\.\\d+)\")"
   ]
  },
  {
   "cell_type": "code",
   "execution_count": 9,
   "id": "a58da1db-6d3a-49e0-8c42-b12378f7bae8",
   "metadata": {},
   "outputs": [],
   "source": [
    "def extractStatement(file):\n",
    "    lines = []\n",
    "    total_check = 0\n",
    "    with pdfplumber.open(file) as pdf:\n",
    "        pages = pdf.pages\n",
    "        for page in pdf.pages:\n",
    "            text = page.extract_text()\n",
    "            # print(text)\n",
    "            # print()\n",
    "            for line in text.split('\\n'):\n",
    "                comp = statement_re.search(line)\n",
    "                if comp:\n",
    "                    amt = credit_re.search(line)\n",
    "                    if not amt:\n",
    "                        amt = amount_re.search(line)\n",
    "                    date, desc, amount = comp.group(1), comp.group(2), 'S$'+ amt.group(1)\n",
    "                    # print('date', date, ', desc', desc, ', amount', amount)\n",
    "                    lines.append(Line(date, desc, amount))\n",
    "        df = pd.DataFrame(lines)\n",
    "        df.Description = df.Description.replace(\" CR\",\"\", regex=True)\n",
    "        df.Description = df.Description.replace(to_replace=r'[0-9.,]+$', value=\"\", regex=True)\n",
    "        return df"
   ]
  },
  {
   "cell_type": "code",
   "execution_count": 10,
   "id": "ae179e4f-b037-40c1-804c-50e5293fc16a",
   "metadata": {},
   "outputs": [],
   "source": [
    "for source in sources:\n",
    "    filename = source.split('/')[-1].split('.')[0]\n",
    "    creditcard = extractStatement(source)\n",
    "    save_path = os.path.join(CSV_DIR, filename+ \".csv\")\n",
    "    creditcard.to_csv(save_path, index=False)"
   ]
  },
  {
   "cell_type": "code",
   "execution_count": null,
   "id": "34ce05b3-8dc9-4c5e-800d-7d15385a2376",
   "metadata": {},
   "outputs": [],
   "source": []
  }
 ],
 "metadata": {
  "kernelspec": {
   "display_name": "Python 3 (ipykernel)",
   "language": "python",
   "name": "python3"
  },
  "language_info": {
   "codemirror_mode": {
    "name": "ipython",
    "version": 3
   },
   "file_extension": ".py",
   "mimetype": "text/x-python",
   "name": "python",
   "nbconvert_exporter": "python",
   "pygments_lexer": "ipython3",
   "version": "3.9.13"
  }
 },
 "nbformat": 4,
 "nbformat_minor": 5
}
